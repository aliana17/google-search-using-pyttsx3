{
 "cells": [
  {
   "cell_type": "code",
   "execution_count": null,
   "metadata": {},
   "outputs": [],
   "source": [
    "#final code\n",
    "import speech_recognition as sr\n",
    "import pyttsx3\n",
    "import webbrowser\n",
    "import os\n",
    "try:\n",
    "    from googlesearch import search\n",
    "except ImportError:\n",
    "    print(\"No module name google found\")\n",
    "mic=sr.Microphone() \n",
    "rec=sr.Recognizer()\n",
    "with mic as source:\n",
    "    print(\"say:\")\n",
    "    engine=pyttsx3.init()\n",
    "    engine.say(\"Tell me how can i help u\")\n",
    "    engine.runAndWait()\n",
    "    print(\"done\")\n",
    "    audio=rec.listen(source)\n",
    "try:\n",
    "    text=rec.recognize_google(audio)\n",
    "    print(text)\n",
    "except:\n",
    "    pass\n",
    "\n",
    "if \"chrome\" or \"search\" in text:\n",
    "    l=text.split()\n",
    "    statement=\"\"\n",
    "    count=0\n",
    "    for i in l:\n",
    "        length=len(l)\n",
    "        statement=statement+i\n",
    "        count=count+1\n",
    "        if count!=length:\n",
    "            statement=statement+str(\"+\")\n",
    "    print(statement)\n",
    "    chrome_path = 'C:/Program Files (x86)/Google/Chrome/Application/chrome.exe %s'  \n",
    "    url=\"https://www.google.com/search?q={}&oq={}&sourceid=chrome&ie=UTF-8\".format(statement,statement)\n",
    "    webbrowser.get(chrome_path).open(url)\n",
    "if \"open\" or \"notepad\" in text:\n",
    "    os.system(\"notepad.exe\")"
   ]
  }
 ],
 "metadata": {
  "kernelspec": {
   "display_name": "Python 3",
   "language": "python",
   "name": "python3"
  },
  "language_info": {
   "codemirror_mode": {
    "name": "ipython",
    "version": 3
   },
   "file_extension": ".py",
   "mimetype": "text/x-python",
   "name": "python",
   "nbconvert_exporter": "python",
   "pygments_lexer": "ipython3",
   "version": "3.6.4"
  }
 },
 "nbformat": 4,
 "nbformat_minor": 2
}
